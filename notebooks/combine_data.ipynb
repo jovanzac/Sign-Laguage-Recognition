{
 "cells": [
  {
   "cell_type": "code",
   "execution_count": 6,
   "id": "234cad88",
   "metadata": {},
   "outputs": [],
   "source": [
    "import os\n",
    "import random\n",
    "import shutil"
   ]
  },
  {
   "cell_type": "code",
   "execution_count": 39,
   "id": "1a698367",
   "metadata": {},
   "outputs": [],
   "source": [
    "DATA_PATH1 = \"../MP_Data_combined_60set1\"\n",
    "DATA_PATH2 = \"../MP_Data_combined_60set2\"\n",
    "NUM_VIDEOS = 60\n",
    "\n",
    "DESTINATION_DIR = \"../MP_Data_combined\"\n",
    "if not os.path.exists(DESTINATION_DIR) :\n",
    "    os.mkdir(DESTINATION_DIR)"
   ]
  },
  {
   "cell_type": "code",
   "execution_count": 40,
   "id": "f3c63115",
   "metadata": {},
   "outputs": [
    {
     "data": {
      "text/plain": [
       "['explain', 'help', 'toilet', 'thank you', 'normal']"
      ]
     },
     "execution_count": 40,
     "metadata": {},
     "output_type": "execute_result"
    }
   ],
   "source": [
    "subfolders = [f.name for f in os.scandir(DATA_PATH1) if f.is_dir()]\n",
    "subfolders"
   ]
  },
  {
   "cell_type": "code",
   "execution_count": 41,
   "id": "b1792746",
   "metadata": {},
   "outputs": [],
   "source": [
    "for action_dir in subfolders :\n",
    "    action_path1 = os.path.join(DATA_PATH1, action_dir)\n",
    "    action_path2 = os.path.join(DATA_PATH2, action_dir)\n",
    "    # videos in the first datapath\n",
    "    video_set1 = [f.name for f in os.scandir(action_path1) if f.is_dir()]\n",
    "    # videos in the second datapath\n",
    "    video_set2 = [f.name for f in os.scandir(action_path2) if f.is_dir()]\n",
    "    \n",
    "    for i in range(NUM_VIDEOS * 2) :\n",
    "        data_ch = random.randint(0, 1)\n",
    "        v_set = video_set1 if data_ch == 0 and video_set1 else video_set2 if video_set2 else video_set1\n",
    "        a_path = action_path1 if data_ch == 0 and video_set1 else action_path2 if video_set2 else action_path1\n",
    "\n",
    "        vid_index = random.choice(v_set)\n",
    "        v_set.remove(vid_index)\n",
    "        source_dir = os.path.join(a_path, str(vid_index))\n",
    "        destination_dir = os.path.join(DESTINATION_DIR, action_dir, str(i))\n",
    "        shutil.copytree(source_dir, destination_dir, dirs_exist_ok=True)\n",
    "        "
   ]
  },
  {
   "cell_type": "code",
   "execution_count": null,
   "id": "6fb5d440",
   "metadata": {},
   "outputs": [],
   "source": []
  }
 ],
 "metadata": {
  "kernelspec": {
   "display_name": "asl",
   "language": "python",
   "name": "asl"
  },
  "language_info": {
   "codemirror_mode": {
    "name": "ipython",
    "version": 3
   },
   "file_extension": ".py",
   "mimetype": "text/x-python",
   "name": "python",
   "nbconvert_exporter": "python",
   "pygments_lexer": "ipython3",
   "version": "3.10.14"
  }
 },
 "nbformat": 4,
 "nbformat_minor": 5
}
